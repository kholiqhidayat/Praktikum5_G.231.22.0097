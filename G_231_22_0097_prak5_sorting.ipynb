{
  "nbformat": 4,
  "nbformat_minor": 0,
  "metadata": {
    "colab": {
      "provenance": [],
      "authorship_tag": "ABX9TyOJzGNdSEB8Lyob96f9ywDg",
      "include_colab_link": true
    },
    "kernelspec": {
      "name": "python3",
      "display_name": "Python 3"
    },
    "language_info": {
      "name": "python"
    }
  },
  "cells": [
    {
      "cell_type": "markdown",
      "metadata": {
        "id": "view-in-github",
        "colab_type": "text"
      },
      "source": [
        "<a href=\"https://colab.research.google.com/github/kholiqhidayat/Praktikum5_G.231.22.0097/blob/main/G_231_22_0097_prak5_sorting.ipynb\" target=\"_parent\"><img src=\"https://colab.research.google.com/assets/colab-badge.svg\" alt=\"Open In Colab\"/></a>"
      ]
    },
    {
      "cell_type": "code",
      "execution_count": 33,
      "metadata": {
        "colab": {
          "base_uri": "https://localhost:8080/"
        },
        "id": "Wb49cWzMXg6i",
        "outputId": "4c73039a-822b-4994-be57-3422015df814"
      },
      "outputs": [
        {
          "output_type": "stream",
          "name": "stdout",
          "text": [
            "Array yang sudah terurut:\n",
            "11 12 22 25 34 64 90 "
          ]
        }
      ],
      "source": [
        "def bubbleSort(arr):\n",
        "    # Mendapatkan panjang array\n",
        "    n = len(arr)\n",
        "    # Flag untuk melacak apakah ada pertukaran selama satu iterasi\n",
        "    swapped = False\n",
        "\n",
        "    # Iterasi untuk setiap passthrough pada array\n",
        "    for i in range(n-1):\n",
        "        # Iterasi dalam untuk membandingkan dan menukar elemen\n",
        "        for j in range(0, n-i-1):\n",
        "            # Membandingkan elemen yang berdekatan dan menukar jika perlu\n",
        "            if arr[j] > arr[j + 1]:\n",
        "                swapped = True\n",
        "                arr[j], arr[j + 1] = arr[j + 1], arr[j]\n",
        "\n",
        "        # Menangani pertukaran elemen dengan menggunakan if-else\n",
        "        if not swapped:\n",
        "            # Jika tidak ada pertukaran, array sudah terurut, keluar dari loop\n",
        "            break\n",
        "        else:\n",
        "            # Reset flag swapped untuk iterasi berikutnya\n",
        "            swapped = False\n",
        "\n",
        "# Kode pengujian untuk fungsi di atas\n",
        "arr = [64, 34, 25, 12, 22, 11, 90]\n",
        "bubbleSort(arr)\n",
        "\n",
        "# Menampilkan array yang sudah terurut\n",
        "print(\"Array yang sudah terurut:\")\n",
        "for i in range(len(arr)):\n",
        "    print(\"%d\" % arr[i], end=\" \")\n"
      ]
    },
    {
      "cell_type": "code",
      "source": [
        "import sys\n",
        "\n",
        "# Array yang akan diurutkan\n",
        "A = [64, 25, 12, 22, 11]\n",
        "\n",
        "# Iterasi melalui setiap elemen array\n",
        "for i in range(len(A)):\n",
        "    # Inisialisasi indeks minimum\n",
        "    min_idx = i\n",
        "\n",
        "    # Iterasi untuk mencari elemen terkecil dari sisa array\n",
        "    for j in range(i + 1, len(A)):\n",
        "        # Membandingkan elemen dengan elemen minimum yang ditemukan\n",
        "        if A[j] < A[min_idx]:\n",
        "            min_idx = j\n",
        "\n",
        "    # Menukar elemen terkecil dengan elemen pada posisi i\n",
        "    if i != min_idx:\n",
        "        A[i], A[min_idx] = A[min_idx], A[i]\n",
        "\n",
        "# Menampilkan array yang sudah terurut\n",
        "print(\"Array yang sudah terurut:\")\n",
        "for i in range(len(A)):\n",
        "    print(\"%d\" % A[i], end=\" \")\n"
      ],
      "metadata": {
        "id": "MOv-KIicYYjh",
        "colab": {
          "base_uri": "https://localhost:8080/"
        },
        "outputId": "5f3e2a81-e3e9-423f-c3e1-a31e60d3c542"
      },
      "execution_count": 32,
      "outputs": [
        {
          "output_type": "stream",
          "name": "stdout",
          "text": [
            "Array yang sudah terurut:\n",
            "11 12 22 25 64 "
          ]
        }
      ]
    },
    {
      "cell_type": "code",
      "source": [
        "def insertionSort(arr):\n",
        "    # Iterasi mulai dari indeks kedua elemen hingga panjang array\n",
        "    for i in range(1, len(arr)):\n",
        "        # Mengambil elemen yang akan diinsert\n",
        "        key = arr[i]\n",
        "        # Menyiapkan indeks untuk membandingkan dan menyisipkan elemen\n",
        "        j = i - 1\n",
        "\n",
        "        # Memindahkan elemen-elemen yang lebih besar dari key ke posisi selanjutnya\n",
        "        while j >= 0 and key < arr[j]:\n",
        "            arr[j + 1] = arr[j]\n",
        "            j -= 1\n",
        "\n",
        "        # Memasukkan key ke posisi yang benar\n",
        "        if j != i - 1:\n",
        "            arr[j + 1] = key\n",
        "        else:\n",
        "            arr[i] = key\n",
        "\n",
        "# Driver code to test above\n",
        "arr = [12, 11, 13, 5, 6]\n",
        "insertionSort(arr)\n",
        "\n",
        "# Menampilkan array yang sudah terurut\n",
        "print(\"Array yang sudah terurut:\")\n",
        "for i in range(len(arr)):\n",
        "    print(\"%d\" % arr[i], end=\" \")\n"
      ],
      "metadata": {
        "id": "TJ2zQFrhYOwQ",
        "colab": {
          "base_uri": "https://localhost:8080/"
        },
        "outputId": "2bd9f60f-ccef-489f-9fef-734a4f8d61a3"
      },
      "execution_count": 35,
      "outputs": [
        {
          "output_type": "stream",
          "name": "stdout",
          "text": [
            "Array yang sudah terurut:\n",
            "5 6 11 12 13 "
          ]
        }
      ]
    }
  ]
}